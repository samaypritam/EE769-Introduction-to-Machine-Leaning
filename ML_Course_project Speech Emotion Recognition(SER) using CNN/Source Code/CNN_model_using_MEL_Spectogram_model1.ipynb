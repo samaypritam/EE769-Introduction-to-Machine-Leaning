{
  "nbformat": 4,
  "nbformat_minor": 0,
  "metadata": {
    "colab": {
      "name": "CNN_model_using_MEL_Spectogram_model1.ipynb",
      "provenance": [],
      "collapsed_sections": []
    },
    "kernelspec": {
      "name": "python3",
      "display_name": "Python 3"
    },
    "accelerator": "GPU"
  },
  "cells": [
    {
      "cell_type": "code",
      "metadata": {
        "id": "7M2ex52g_k0x"
      },
      "source": [
        "import librosa\n",
        "import librosa.display\n",
        "import numpy as np\n",
        "import matplotlib.pyplot as plt\n",
        "import pandas as pd\n",
        "import IPython.display as ipd\n",
        "import os\n",
        "import sys\n",
        "import warnings\n",
        "import IPython.display as ipd\n",
        "from numpy import savez_compressed\n"
      ],
      "execution_count": null,
      "outputs": []
    },
    {
      "cell_type": "code",
      "metadata": {
        "id": "dgTANe_M-gRq",
        "colab": {
          "base_uri": "https://localhost:8080/"
        },
        "outputId": "b52de573-07f6-4ea7-b53b-b7608aaa6717"
      },
      "source": [
        "from google.colab import drive\n",
        "drive.mount('/content/drive')"
      ],
      "execution_count": null,
      "outputs": [
        {
          "output_type": "stream",
          "text": [
            "Mounted at /content/drive\n"
          ],
          "name": "stdout"
        }
      ]
    },
    {
      "cell_type": "markdown",
      "metadata": {
        "id": "jU6khXDoP3mp"
      },
      "source": [
        "####Processed Data\n",
        "[Here](https://colab.research.google.com/drive/1c-MQBE7sQSJtrOPftzjGAP4biFSvFuJf?usp=sharing) link to the notebook"
      ]
    },
    {
      "cell_type": "code",
      "metadata": {
        "id": "qECW3Izx-inP"
      },
      "source": [
        "df = pd.read_csv(\"/content/drive/MyDrive/ML Project/final _data_with_six_emotions.csv\")\n",
        "df=df[['path','emotion']]\n",
        "#Defining the X and Y for further processing\n",
        "X=df['path']\n",
        "Y_dash=df['emotion']\n",
        "\n",
        "#Label Encoding the outputs\n",
        "from sklearn.preprocessing import LabelEncoder\n",
        "def prepare_targets(y_train):\n",
        "\tle = LabelEncoder()\n",
        "\tle.fit(y_train)\n",
        "\ty_train_enc = le.transform(y_train)\n",
        "\t\n",
        "\treturn y_train_enc\n",
        "\n",
        "Y=prepare_targets(Y_dash)"
      ],
      "execution_count": null,
      "outputs": []
    },
    {
      "cell_type": "markdown",
      "metadata": {
        "id": "coBSrbGBXKAW"
      },
      "source": [
        "# **Training and Validation**"
      ]
    },
    {
      "cell_type": "markdown",
      "metadata": {
        "id": "mJR5NSbWP_Tp"
      },
      "source": [
        "## Load Data"
      ]
    },
    {
      "cell_type": "markdown",
      "metadata": {
        "id": "p5J0bzJOZZqm"
      },
      "source": [
        "##Extraction of data\n",
        " Extraction of the features from the saved .npz file \n",
        " previously executed colab file [Here](https://colab.research.google.com/drive/1IyXyS2tRj6w_GdV6rVJUeZr7sKmmYw2r?usp=sharing)"
      ]
    },
    {
      "cell_type": "code",
      "metadata": {
        "id": "lxBZHHDpOfTQ"
      },
      "source": [
        "#imports\n",
        "import torch\n",
        "import torch.nn as nn # All neural network modules, nn.Linear, nn.Conv2d, BatchNorm, Loss functions\n",
        "import torch.optim as optim # For all Optimization algorithms, SGD, Adam, etc.\n",
        "import torch.nn.functional as F # All functions that don't have any parameters"
      ],
      "execution_count": null,
      "outputs": []
    },
    {
      "cell_type": "code",
      "metadata": {
        "id": "KaFg5GnRXIA0",
        "colab": {
          "base_uri": "https://localhost:8080/"
        },
        "outputId": "4b84a75a-3242-4e7b-9e6d-5841bbc896d8"
      },
      "source": [
        "#Uploading the Mel-spectogram features from G-drive\n",
        "fe = np.load('/content/drive/MyDrive/ML Project/mel_feature.npz')\n",
        "lst = fe.files\n",
        "for item in lst:\n",
        "    print(item)\n",
        "    print(fe[item].shape)\n",
        "    X_train = fe[item]\n"
      ],
      "execution_count": null,
      "outputs": [
        {
          "output_type": "stream",
          "text": [
            "arr_0\n",
            "(10898, 128, 134)\n"
          ],
          "name": "stdout"
        }
      ]
    },
    {
      "cell_type": "code",
      "metadata": {
        "id": "J6eoRKgdXwg-"
      },
      "source": [
        "from sklearn.model_selection import train_test_split\n",
        "x_train, x_test, y_train, y_test = train_test_split(X_train, Y, test_size=0.33, random_state=42)"
      ],
      "execution_count": null,
      "outputs": []
    },
    {
      "cell_type": "code",
      "metadata": {
        "colab": {
          "base_uri": "https://localhost:8080/"
        },
        "id": "tb_w23caLsnX",
        "outputId": "6564a4c7-2bb4-4245-e88d-e56977256066"
      },
      "source": [
        "print(x_train.shape)\n",
        "print(y_train.shape)\n",
        "print(x_test.shape)\n",
        "print(y_test.shape)"
      ],
      "execution_count": null,
      "outputs": [
        {
          "output_type": "stream",
          "text": [
            "(7301, 128, 134)\n",
            "(7301,)\n",
            "(3597, 128, 134)\n",
            "(3597,)\n"
          ],
          "name": "stdout"
        }
      ]
    },
    {
      "cell_type": "code",
      "metadata": {
        "id": "TxNatU1BNxP1"
      },
      "source": [
        "X_train = np.expand_dims(x_train,1)\n",
        "X_test = np.expand_dims(x_test,1)\n",
        "\n",
        "#Normalizing data\n",
        "from sklearn.preprocessing import StandardScaler\n",
        "scaler = StandardScaler()\n",
        "b,c,h,w = X_train.shape\n",
        "X_train = np.reshape(X_train, newshape=(b,-1))\n",
        "X_train = scaler.fit_transform(X_train)\n",
        "X_train = np.reshape(X_train, newshape=(b,c,h,w))\n",
        "\n",
        "X_train = torch.tensor(X_train)\n",
        "Y_train = torch.tensor(y_train)"
      ],
      "execution_count": null,
      "outputs": []
    },
    {
      "cell_type": "code",
      "metadata": {
        "id": "Jb5sNczBNlZe"
      },
      "source": [
        "#creation of the test and validation dataset fron the test dataset which was total 1/3 of the dataset\n",
        "test_x, val_x, test_y, val_y = train_test_split(x_test, y_test, test_size = 0.5)\n",
        "\n",
        "#load data and reshaping and conv to tensor function\n",
        "def reshape_array_and_convert_to_tensor(p):\n",
        "  p = np.expand_dims(p,1)\n",
        "  b,c,h,w = p.shape\n",
        "  p = np.reshape(p, newshape=(b,-1))\n",
        "  p = scaler.fit_transform(p)\n",
        "  p = np.reshape(p, newshape=(b,c,h,w))\n",
        "  p = torch.tensor(p)\n",
        "  return p\n",
        "\n",
        "test_x=reshape_array_and_convert_to_tensor(test_x)\n",
        "test_x.shape\n",
        "val_x=reshape_array_and_convert_to_tensor(val_x)\n",
        "val_x.shape\n",
        "test_y = torch.tensor(test_y)\n",
        "val_y = torch.tensor(val_y)"
      ],
      "execution_count": null,
      "outputs": []
    },
    {
      "cell_type": "markdown",
      "metadata": {
        "id": "woarmAsYQFtT"
      },
      "source": [
        "## Training"
      ]
    },
    {
      "cell_type": "code",
      "metadata": {
        "id": "1QhS9EcIL_vc"
      },
      "source": [
        " 3#Ceate fully connected network\n",
        "class CNN(nn.Module):\n",
        "  def __init__(self,in_dim,output_dim):\n",
        "    super (CNN,self).__init__()\n",
        "    self.conv1 = nn.Conv2d(in_channels = in_dim, out_channels = 20, kernel_size = 3, stride = 1,padding = 1)\n",
        "    self.norm1 = nn.BatchNorm2d(20)\n",
        "    self.dropout = nn.Dropout2d(0.3)\n",
        "    self.pool = nn.MaxPool2d(kernel_size = (2,2), stride =(2,2) )\n",
        "    self.conv2 = nn.Conv2d(in_channels = 20, out_channels = 16, kernel_size = 3, stride = 1, padding = 1)\n",
        "    self.norm2 = nn.BatchNorm2d(16)\n",
        "    self.fc1 = nn.Linear(16*32*33,120)\n",
        "    self.fc2 = nn.Linear(120, 84)\n",
        "    self.fc3 = nn.Linear(84, output_dim)\n",
        "    self.fc4 = nn.Softmax(-1)\n",
        "            \n",
        "  \n",
        "  def forward(self,x):\n",
        "    x = self.conv1(x)\n",
        "    x = F.relu(self.norm1(x))\n",
        "    x = self.pool(x)\n",
        "    x = self.dropout(x)\n",
        "    x = self.conv2(x)\n",
        "    x = F.relu(self.norm2(x))\n",
        "    x = self.pool(x)\n",
        "    x = self.dropout(x)\n",
        "    x = x.reshape(x.shape[0],-1)\n",
        "    x = F.relu(self.fc1(x))\n",
        "    x = F.relu(self.fc2(x))\n",
        "    x = self.fc3(x)\n",
        "    x = self.fc4(x)\n",
        "    return x"
      ],
      "execution_count": null,
      "outputs": []
    },
    {
      "cell_type": "code",
      "metadata": {
        "colab": {
          "base_uri": "https://localhost:8080/"
        },
        "id": "kYiaSzGaMLKP",
        "outputId": "eea58382-97fc-474f-df32-40e6efc5d5fa"
      },
      "source": [
        "#Hperparameter\n",
        "in_dim = 1\n",
        "output_dim = 6\n",
        "learning_rate = 0.001\n",
        "batch_size = 149\n",
        "num_epochs = 100\n",
        "\n",
        "device = 'cuda' if torch.cuda.is_available() else 'cpu'\n",
        "#initialise the nw\n",
        "model = CNN(in_dim,output_dim).to(device)\n",
        "#loss and optimiser\n",
        "criterion = nn.CrossEntropyLoss()\n",
        "criterion = criterion.to(device)\n",
        "optimizer = optim.SGD(model.parameters(),lr=0.001, weight_decay=1e-4,momentum=0.8)\n",
        "#model summary\n",
        "print(model)"
      ],
      "execution_count": null,
      "outputs": [
        {
          "output_type": "stream",
          "text": [
            "CNN(\n",
            "  (conv1): Conv2d(1, 20, kernel_size=(3, 3), stride=(1, 1), padding=(1, 1))\n",
            "  (norm1): BatchNorm2d(20, eps=1e-05, momentum=0.1, affine=True, track_running_stats=True)\n",
            "  (dropout): Dropout2d(p=0.3, inplace=False)\n",
            "  (pool): MaxPool2d(kernel_size=(2, 2), stride=(2, 2), padding=0, dilation=1, ceil_mode=False)\n",
            "  (conv2): Conv2d(20, 16, kernel_size=(3, 3), stride=(1, 1), padding=(1, 1))\n",
            "  (norm2): BatchNorm2d(16, eps=1e-05, momentum=0.1, affine=True, track_running_stats=True)\n",
            "  (fc1): Linear(in_features=16896, out_features=120, bias=True)\n",
            "  (fc2): Linear(in_features=120, out_features=84, bias=True)\n",
            "  (fc3): Linear(in_features=84, out_features=6, bias=True)\n",
            "  (fc4): Softmax(dim=-1)\n",
            ")\n"
          ],
          "name": "stdout"
        }
      ]
    },
    {
      "cell_type": "code",
      "metadata": {
        "id": "8FptzrhFMlEp"
      },
      "source": [
        "def get_accuracy(scores,target):\n",
        "\n",
        "  #print(scores.shape , target.shape)\n",
        "\n",
        "  _ , pred_arg = torch.max(scores,dim=1)\n",
        "\n",
        "  correct = torch.sum(pred_arg == target)\n",
        "\n",
        "  acc = correct / target.shape[0]\n",
        "\n",
        "  return acc"
      ],
      "execution_count": null,
      "outputs": []
    },
    {
      "cell_type": "code",
      "metadata": {
        "id": "lYyF_gilMqrg",
        "colab": {
          "base_uri": "https://localhost:8080/"
        },
        "outputId": "13f38780-5912-47a4-9eab-38ff5e2d21b3"
      },
      "source": [
        "# Training the model\n",
        "train_losses = []\n",
        "val_losses =[]\n",
        "train_acc=[]\n",
        "val_acc=[]\n",
        "count = 0\n",
        "dataset_size = X_train.shape[0]\n",
        "for epoch in range(num_epochs):\n",
        "  ind = np.random.permutation(dataset_size)\n",
        "  X_train = X_train[ind,:,:,:]\n",
        "  Y_train = Y_train[ind]\n",
        "  count+=1\n",
        "  print(count)\n",
        "  i = 0\n",
        "  model.train()\n",
        "  epoch_loss , epoch_acc = 0.0 , 0.0\n",
        "  batches = 0\n",
        "  batch_size = 32\n",
        "\n",
        "  while (i+1)*batch_size < len(X_train):\n",
        "    data = X_train[i*batch_size : (i+1)*batch_size].to(device)\n",
        "    targets = Y_train[i*batch_size : (i+1)*batch_size].to(device)\n",
        "    #targets = targets.type(torch.LongTensor).to(device)\n",
        "    #forward\n",
        "    data = data.float()\n",
        "    #Clearing gradients\n",
        "    \n",
        "    scores = model(data)\n",
        "    loss = criterion(scores, targets)\n",
        "\n",
        "    #backward\n",
        "    optimizer.zero_grad()\n",
        "\n",
        "    loss.backward()\n",
        "\n",
        "    #gradient descent or adam step\n",
        "    optimizer.step()\n",
        "    #torch.cuda.empty_cache()\n",
        "    \n",
        "    with torch.no_grad():\n",
        "\n",
        "      epoch_loss += loss.item()\n",
        "      batches +=1\n",
        "      epoch_acc += get_accuracy(scores , targets)\n",
        "\n",
        "    i += 1\n",
        "  \n",
        "  with torch.no_grad():\n",
        "    model.eval()\n",
        "    data_v=val_x[1:700].to(device)\n",
        "    target_v = val_y[1:700].to(device)\n",
        "    scores_v = model(data_v.float())\n",
        "    loss_v = criterion(scores_v, target_v)\n",
        "    validation_acc = get_accuracy(scores_v , target_v)\n",
        "\n",
        "  #epoch_acc=epoch_acc.append()\n",
        "  train_losses.append(epoch_loss)\n",
        "  val_losses.append(loss_v)\n",
        "  train_acc.append(epoch_acc)\n",
        "  val_acc.append(validation_acc)\n",
        "  print('epoch:',count, '\\t', 'loss_training: ', epoch_loss / batches ,'train accuracy : ' , epoch_acc/batches , 'loss_val: ', loss_v , 'validation accuracy :' , validation_acc)"
      ],
      "execution_count": null,
      "outputs": [
        {
          "output_type": "stream",
          "text": [
            "1\n",
            "epoch: 1 \t loss_training:  1.7803472358929484 train accuracy :  tensor(0.2493, device='cuda:0') loss_val:  tensor(1.7641, device='cuda:0') validation accuracy : tensor(0.3033, device='cuda:0')\n",
            "2\n",
            "epoch: 2 \t loss_training:  1.7442176263583333 train accuracy :  tensor(0.3103, device='cuda:0') loss_val:  tensor(1.7251, device='cuda:0') validation accuracy : tensor(0.3491, device='cuda:0')\n",
            "3\n",
            "epoch: 3 \t loss_training:  1.7120955021757829 train accuracy :  tensor(0.3396, device='cuda:0') loss_val:  tensor(1.6900, device='cuda:0') validation accuracy : tensor(0.3820, device='cuda:0')\n",
            "4\n",
            "epoch: 4 \t loss_training:  1.6773597425536106 train accuracy :  tensor(0.3827, device='cuda:0') loss_val:  tensor(1.6588, device='cuda:0') validation accuracy : tensor(0.4220, device='cuda:0')\n",
            "5\n",
            "epoch: 5 \t loss_training:  1.6495664187690668 train accuracy :  tensor(0.4113, device='cuda:0') loss_val:  tensor(1.6285, device='cuda:0') validation accuracy : tensor(0.4506, device='cuda:0')\n",
            "6\n",
            "epoch: 6 \t loss_training:  1.6224894366766278 train accuracy :  tensor(0.4346, device='cuda:0') loss_val:  tensor(1.6038, device='cuda:0') validation accuracy : tensor(0.4678, device='cuda:0')\n",
            "7\n",
            "epoch: 7 \t loss_training:  1.599018948642831 train accuracy :  tensor(0.4611, device='cuda:0') loss_val:  tensor(1.5872, device='cuda:0') validation accuracy : tensor(0.4807, device='cuda:0')\n",
            "8\n",
            "epoch: 8 \t loss_training:  1.5818904470979123 train accuracy :  tensor(0.4775, device='cuda:0') loss_val:  tensor(1.5706, device='cuda:0') validation accuracy : tensor(0.4850, device='cuda:0')\n",
            "9\n",
            "epoch: 9 \t loss_training:  1.566394006996824 train accuracy :  tensor(0.4945, device='cuda:0') loss_val:  tensor(1.5590, device='cuda:0') validation accuracy : tensor(0.4979, device='cuda:0')\n",
            "10\n",
            "epoch: 10 \t loss_training:  1.556337958365156 train accuracy :  tensor(0.4984, device='cuda:0') loss_val:  tensor(1.5527, device='cuda:0') validation accuracy : tensor(0.4821, device='cuda:0')\n",
            "11\n",
            "epoch: 11 \t loss_training:  1.5444474931348835 train accuracy :  tensor(0.5078, device='cuda:0') loss_val:  tensor(1.5428, device='cuda:0') validation accuracy : tensor(0.5050, device='cuda:0')\n",
            "12\n",
            "epoch: 12 \t loss_training:  1.5370202069742638 train accuracy :  tensor(0.5138, device='cuda:0') loss_val:  tensor(1.5332, device='cuda:0') validation accuracy : tensor(0.5150, device='cuda:0')\n",
            "13\n",
            "epoch: 13 \t loss_training:  1.5260906569790422 train accuracy :  tensor(0.5228, device='cuda:0') loss_val:  tensor(1.5316, device='cuda:0') validation accuracy : tensor(0.5107, device='cuda:0')\n",
            "14\n",
            "epoch: 14 \t loss_training:  1.5185475307598448 train accuracy :  tensor(0.5329, device='cuda:0') loss_val:  tensor(1.5227, device='cuda:0') validation accuracy : tensor(0.5265, device='cuda:0')\n",
            "15\n",
            "epoch: 15 \t loss_training:  1.5152349419761122 train accuracy :  tensor(0.5318, device='cuda:0') loss_val:  tensor(1.5217, device='cuda:0') validation accuracy : tensor(0.5222, device='cuda:0')\n",
            "16\n",
            "epoch: 16 \t loss_training:  1.5070662184765464 train accuracy :  tensor(0.5434, device='cuda:0') loss_val:  tensor(1.5229, device='cuda:0') validation accuracy : tensor(0.5036, device='cuda:0')\n",
            "17\n",
            "epoch: 17 \t loss_training:  1.5038007482102043 train accuracy :  tensor(0.5436, device='cuda:0') loss_val:  tensor(1.5176, device='cuda:0') validation accuracy : tensor(0.5165, device='cuda:0')\n",
            "18\n",
            "epoch: 18 \t loss_training:  1.4967923875440632 train accuracy :  tensor(0.5495, device='cuda:0') loss_val:  tensor(1.5150, device='cuda:0') validation accuracy : tensor(0.5222, device='cuda:0')\n",
            "19\n",
            "epoch: 19 \t loss_training:  1.4923497694626189 train accuracy :  tensor(0.5547, device='cuda:0') loss_val:  tensor(1.5093, device='cuda:0') validation accuracy : tensor(0.5236, device='cuda:0')\n",
            "20\n",
            "epoch: 20 \t loss_training:  1.489185090650592 train accuracy :  tensor(0.5606, device='cuda:0') loss_val:  tensor(1.5116, device='cuda:0') validation accuracy : tensor(0.5250, device='cuda:0')\n",
            "21\n",
            "epoch: 21 \t loss_training:  1.4817497097609336 train accuracy :  tensor(0.5652, device='cuda:0') loss_val:  tensor(1.5083, device='cuda:0') validation accuracy : tensor(0.5308, device='cuda:0')\n",
            "22\n",
            "epoch: 22 \t loss_training:  1.4805747427438434 train accuracy :  tensor(0.5695, device='cuda:0') loss_val:  tensor(1.4987, device='cuda:0') validation accuracy : tensor(0.5508, device='cuda:0')\n",
            "23\n",
            "epoch: 23 \t loss_training:  1.4750931445966686 train accuracy :  tensor(0.5743, device='cuda:0') loss_val:  tensor(1.5014, device='cuda:0') validation accuracy : tensor(0.5465, device='cuda:0')\n",
            "24\n",
            "epoch: 24 \t loss_training:  1.471497790332426 train accuracy :  tensor(0.5772, device='cuda:0') loss_val:  tensor(1.5122, device='cuda:0') validation accuracy : tensor(0.5122, device='cuda:0')\n",
            "25\n",
            "epoch: 25 \t loss_training:  1.467495020021472 train accuracy :  tensor(0.5794, device='cuda:0') loss_val:  tensor(1.5053, device='cuda:0') validation accuracy : tensor(0.5351, device='cuda:0')\n",
            "26\n",
            "epoch: 26 \t loss_training:  1.4620856893690009 train accuracy :  tensor(0.5895, device='cuda:0') loss_val:  tensor(1.5046, device='cuda:0') validation accuracy : tensor(0.5193, device='cuda:0')\n",
            "27\n",
            "epoch: 27 \t loss_training:  1.4588789573886938 train accuracy :  tensor(0.5894, device='cuda:0') loss_val:  tensor(1.5071, device='cuda:0') validation accuracy : tensor(0.5222, device='cuda:0')\n",
            "28\n",
            "epoch: 28 \t loss_training:  1.4603005208467181 train accuracy :  tensor(0.5896, device='cuda:0') loss_val:  tensor(1.5050, device='cuda:0') validation accuracy : tensor(0.5222, device='cuda:0')\n",
            "29\n",
            "epoch: 29 \t loss_training:  1.4510862900499713 train accuracy :  tensor(0.5984, device='cuda:0') loss_val:  tensor(1.4949, device='cuda:0') validation accuracy : tensor(0.5508, device='cuda:0')\n",
            "30\n",
            "epoch: 30 \t loss_training:  1.4494475162865823 train accuracy :  tensor(0.5981, device='cuda:0') loss_val:  tensor(1.4996, device='cuda:0') validation accuracy : tensor(0.5322, device='cuda:0')\n",
            "31\n",
            "epoch: 31 \t loss_training:  1.4433434793823643 train accuracy :  tensor(0.6053, device='cuda:0') loss_val:  tensor(1.5008, device='cuda:0') validation accuracy : tensor(0.5322, device='cuda:0')\n",
            "32\n",
            "epoch: 32 \t loss_training:  1.4427903393904369 train accuracy :  tensor(0.6075, device='cuda:0') loss_val:  tensor(1.4898, device='cuda:0') validation accuracy : tensor(0.5465, device='cuda:0')\n",
            "33\n",
            "epoch: 33 \t loss_training:  1.4335383987217618 train accuracy :  tensor(0.6166, device='cuda:0') loss_val:  tensor(1.4927, device='cuda:0') validation accuracy : tensor(0.5494, device='cuda:0')\n",
            "34\n",
            "epoch: 34 \t loss_training:  1.430275658243581 train accuracy :  tensor(0.6199, device='cuda:0') loss_val:  tensor(1.4927, device='cuda:0') validation accuracy : tensor(0.5365, device='cuda:0')\n",
            "35\n",
            "epoch: 35 \t loss_training:  1.4295712813996433 train accuracy :  tensor(0.6186, device='cuda:0') loss_val:  tensor(1.4963, device='cuda:0') validation accuracy : tensor(0.5379, device='cuda:0')\n",
            "36\n",
            "epoch: 36 \t loss_training:  1.427506549839388 train accuracy :  tensor(0.6236, device='cuda:0') loss_val:  tensor(1.4897, device='cuda:0') validation accuracy : tensor(0.5408, device='cuda:0')\n",
            "37\n",
            "epoch: 37 \t loss_training:  1.422910955391432 train accuracy :  tensor(0.6310, device='cuda:0') loss_val:  tensor(1.4932, device='cuda:0') validation accuracy : tensor(0.5351, device='cuda:0')\n",
            "38\n",
            "epoch: 38 \t loss_training:  1.4158556361993153 train accuracy :  tensor(0.6357, device='cuda:0') loss_val:  tensor(1.4921, device='cuda:0') validation accuracy : tensor(0.5351, device='cuda:0')\n",
            "39\n",
            "epoch: 39 \t loss_training:  1.4125501408911587 train accuracy :  tensor(0.6398, device='cuda:0') loss_val:  tensor(1.4915, device='cuda:0') validation accuracy : tensor(0.5393, device='cuda:0')\n",
            "40\n",
            "epoch: 40 \t loss_training:  1.4131632191047334 train accuracy :  tensor(0.6373, device='cuda:0') loss_val:  tensor(1.5029, device='cuda:0') validation accuracy : tensor(0.5193, device='cuda:0')\n",
            "41\n",
            "epoch: 41 \t loss_training:  1.409211536248525 train accuracy :  tensor(0.6425, device='cuda:0') loss_val:  tensor(1.5008, device='cuda:0') validation accuracy : tensor(0.5250, device='cuda:0')\n",
            "42\n",
            "epoch: 42 \t loss_training:  1.4048731855133123 train accuracy :  tensor(0.6458, device='cuda:0') loss_val:  tensor(1.4888, device='cuda:0') validation accuracy : tensor(0.5522, device='cuda:0')\n",
            "43\n",
            "epoch: 43 \t loss_training:  1.401443550461217 train accuracy :  tensor(0.6509, device='cuda:0') loss_val:  tensor(1.4877, device='cuda:0') validation accuracy : tensor(0.5436, device='cuda:0')\n",
            "44\n",
            "epoch: 44 \t loss_training:  1.3948125567352563 train accuracy :  tensor(0.6573, device='cuda:0') loss_val:  tensor(1.4943, device='cuda:0') validation accuracy : tensor(0.5336, device='cuda:0')\n",
            "45\n",
            "epoch: 45 \t loss_training:  1.3951063192727273 train accuracy :  tensor(0.6582, device='cuda:0') loss_val:  tensor(1.4916, device='cuda:0') validation accuracy : tensor(0.5436, device='cuda:0')\n",
            "46\n",
            "epoch: 46 \t loss_training:  1.3897538613854794 train accuracy :  tensor(0.6615, device='cuda:0') loss_val:  tensor(1.4909, device='cuda:0') validation accuracy : tensor(0.5365, device='cuda:0')\n",
            "47\n",
            "epoch: 47 \t loss_training:  1.3863979808071203 train accuracy :  tensor(0.6653, device='cuda:0') loss_val:  tensor(1.4830, device='cuda:0') validation accuracy : tensor(0.5494, device='cuda:0')\n",
            "48\n",
            "epoch: 48 \t loss_training:  1.384152565086097 train accuracy :  tensor(0.6686, device='cuda:0') loss_val:  tensor(1.4829, device='cuda:0') validation accuracy : tensor(0.5536, device='cuda:0')\n",
            "49\n",
            "epoch: 49 \t loss_training:  1.3776666156032629 train accuracy :  tensor(0.6743, device='cuda:0') loss_val:  tensor(1.4873, device='cuda:0') validation accuracy : tensor(0.5408, device='cuda:0')\n",
            "50\n",
            "epoch: 50 \t loss_training:  1.378350153303983 train accuracy :  tensor(0.6737, device='cuda:0') loss_val:  tensor(1.4835, device='cuda:0') validation accuracy : tensor(0.5451, device='cuda:0')\n",
            "51\n",
            "epoch: 51 \t loss_training:  1.3728815416495006 train accuracy :  tensor(0.6823, device='cuda:0') loss_val:  tensor(1.4898, device='cuda:0') validation accuracy : tensor(0.5436, device='cuda:0')\n",
            "52\n",
            "epoch: 52 \t loss_training:  1.3729504535072727 train accuracy :  tensor(0.6817, device='cuda:0') loss_val:  tensor(1.4854, device='cuda:0') validation accuracy : tensor(0.5479, device='cuda:0')\n",
            "53\n",
            "epoch: 53 \t loss_training:  1.368502547343572 train accuracy :  tensor(0.6842, device='cuda:0') loss_val:  tensor(1.4936, device='cuda:0') validation accuracy : tensor(0.5393, device='cuda:0')\n",
            "54\n",
            "epoch: 54 \t loss_training:  1.3640141481893104 train accuracy :  tensor(0.6878, device='cuda:0') loss_val:  tensor(1.4957, device='cuda:0') validation accuracy : tensor(0.5308, device='cuda:0')\n",
            "55\n",
            "epoch: 55 \t loss_training:  1.3594434245636589 train accuracy :  tensor(0.6928, device='cuda:0') loss_val:  tensor(1.4856, device='cuda:0') validation accuracy : tensor(0.5451, device='cuda:0')\n",
            "56\n",
            "epoch: 56 \t loss_training:  1.362810886742776 train accuracy :  tensor(0.6876, device='cuda:0') loss_val:  tensor(1.4876, device='cuda:0') validation accuracy : tensor(0.5508, device='cuda:0')\n",
            "57\n",
            "epoch: 57 \t loss_training:  1.358737014364778 train accuracy :  tensor(0.6934, device='cuda:0') loss_val:  tensor(1.4904, device='cuda:0') validation accuracy : tensor(0.5393, device='cuda:0')\n",
            "58\n",
            "epoch: 58 \t loss_training:  1.351945457228443 train accuracy :  tensor(0.7004, device='cuda:0') loss_val:  tensor(1.4891, device='cuda:0') validation accuracy : tensor(0.5393, device='cuda:0')\n",
            "59\n",
            "epoch: 59 \t loss_training:  1.350586366758012 train accuracy :  tensor(0.7000, device='cuda:0') loss_val:  tensor(1.4858, device='cuda:0') validation accuracy : tensor(0.5594, device='cuda:0')\n",
            "60\n",
            "epoch: 60 \t loss_training:  1.3480941287258215 train accuracy :  tensor(0.7056, device='cuda:0') loss_val:  tensor(1.4870, device='cuda:0') validation accuracy : tensor(0.5422, device='cuda:0')\n",
            "61\n",
            "epoch: 61 \t loss_training:  1.3440505067507427 train accuracy :  tensor(0.7089, device='cuda:0') loss_val:  tensor(1.4865, device='cuda:0') validation accuracy : tensor(0.5522, device='cuda:0')\n",
            "62\n",
            "epoch: 62 \t loss_training:  1.3417735277560718 train accuracy :  tensor(0.7098, device='cuda:0') loss_val:  tensor(1.5002, device='cuda:0') validation accuracy : tensor(0.5308, device='cuda:0')\n",
            "63\n",
            "epoch: 63 \t loss_training:  1.3374397901066564 train accuracy :  tensor(0.7149, device='cuda:0') loss_val:  tensor(1.4925, device='cuda:0') validation accuracy : tensor(0.5465, device='cuda:0')\n",
            "64\n",
            "epoch: 64 \t loss_training:  1.3368254737895833 train accuracy :  tensor(0.7175, device='cuda:0') loss_val:  tensor(1.4930, device='cuda:0') validation accuracy : tensor(0.5379, device='cuda:0')\n",
            "65\n",
            "epoch: 65 \t loss_training:  1.3310864996491818 train accuracy :  tensor(0.7193, device='cuda:0') loss_val:  tensor(1.4989, device='cuda:0') validation accuracy : tensor(0.5265, device='cuda:0')\n",
            "66\n",
            "epoch: 66 \t loss_training:  1.3358483633451295 train accuracy :  tensor(0.7177, device='cuda:0') loss_val:  tensor(1.4894, device='cuda:0') validation accuracy : tensor(0.5393, device='cuda:0')\n",
            "67\n",
            "epoch: 67 \t loss_training:  1.3264004080964809 train accuracy :  tensor(0.7262, device='cuda:0') loss_val:  tensor(1.4884, device='cuda:0') validation accuracy : tensor(0.5451, device='cuda:0')\n",
            "68\n",
            "epoch: 68 \t loss_training:  1.3232255991090809 train accuracy :  tensor(0.7300, device='cuda:0') loss_val:  tensor(1.4898, device='cuda:0') validation accuracy : tensor(0.5365, device='cuda:0')\n",
            "69\n",
            "epoch: 69 \t loss_training:  1.3217196365197499 train accuracy :  tensor(0.7319, device='cuda:0') loss_val:  tensor(1.4875, device='cuda:0') validation accuracy : tensor(0.5479, device='cuda:0')\n",
            "70\n",
            "epoch: 70 \t loss_training:  1.3228552968878495 train accuracy :  tensor(0.7277, device='cuda:0') loss_val:  tensor(1.4870, device='cuda:0') validation accuracy : tensor(0.5408, device='cuda:0')\n",
            "71\n",
            "epoch: 71 \t loss_training:  1.3156488710328151 train accuracy :  tensor(0.7377, device='cuda:0') loss_val:  tensor(1.4899, device='cuda:0') validation accuracy : tensor(0.5465, device='cuda:0')\n",
            "72\n",
            "epoch: 72 \t loss_training:  1.3141950614619673 train accuracy :  tensor(0.7378, device='cuda:0') loss_val:  tensor(1.4898, device='cuda:0') validation accuracy : tensor(0.5451, device='cuda:0')\n",
            "73\n",
            "epoch: 73 \t loss_training:  1.3121665151495683 train accuracy :  tensor(0.7392, device='cuda:0') loss_val:  tensor(1.4854, device='cuda:0') validation accuracy : tensor(0.5479, device='cuda:0')\n",
            "74\n",
            "epoch: 74 \t loss_training:  1.3132388858418715 train accuracy :  tensor(0.7371, device='cuda:0') loss_val:  tensor(1.4873, device='cuda:0') validation accuracy : tensor(0.5522, device='cuda:0')\n",
            "75\n",
            "epoch: 75 \t loss_training:  1.3087978415321886 train accuracy :  tensor(0.7431, device='cuda:0') loss_val:  tensor(1.4886, device='cuda:0') validation accuracy : tensor(0.5436, device='cuda:0')\n",
            "76\n",
            "epoch: 76 \t loss_training:  1.305391552155478 train accuracy :  tensor(0.7495, device='cuda:0') loss_val:  tensor(1.4928, device='cuda:0') validation accuracy : tensor(0.5451, device='cuda:0')\n",
            "77\n",
            "epoch: 77 \t loss_training:  1.3016015495124615 train accuracy :  tensor(0.7525, device='cuda:0') loss_val:  tensor(1.4896, device='cuda:0') validation accuracy : tensor(0.5293, device='cuda:0')\n",
            "78\n",
            "epoch: 78 \t loss_training:  1.3018096361243934 train accuracy :  tensor(0.7495, device='cuda:0') loss_val:  tensor(1.4932, device='cuda:0') validation accuracy : tensor(0.5336, device='cuda:0')\n",
            "79\n",
            "epoch: 79 \t loss_training:  1.297842257378394 train accuracy :  tensor(0.7542, device='cuda:0') loss_val:  tensor(1.4929, device='cuda:0') validation accuracy : tensor(0.5379, device='cuda:0')\n",
            "80\n",
            "epoch: 80 \t loss_training:  1.2983204006103046 train accuracy :  tensor(0.7542, device='cuda:0') loss_val:  tensor(1.4913, device='cuda:0') validation accuracy : tensor(0.5379, device='cuda:0')\n",
            "81\n",
            "epoch: 81 \t loss_training:  1.2948539351162158 train accuracy :  tensor(0.7574, device='cuda:0') loss_val:  tensor(1.4912, device='cuda:0') validation accuracy : tensor(0.5379, device='cuda:0')\n",
            "82\n",
            "epoch: 82 \t loss_training:  1.2923399251804017 train accuracy :  tensor(0.7611, device='cuda:0') loss_val:  tensor(1.4992, device='cuda:0') validation accuracy : tensor(0.5351, device='cuda:0')\n",
            "83\n",
            "epoch: 83 \t loss_training:  1.2889871822114576 train accuracy :  tensor(0.7643, device='cuda:0') loss_val:  tensor(1.4901, device='cuda:0') validation accuracy : tensor(0.5422, device='cuda:0')\n",
            "84\n",
            "epoch: 84 \t loss_training:  1.2873073779700095 train accuracy :  tensor(0.7636, device='cuda:0') loss_val:  tensor(1.4941, device='cuda:0') validation accuracy : tensor(0.5308, device='cuda:0')\n",
            "85\n",
            "epoch: 85 \t loss_training:  1.283084921146694 train accuracy :  tensor(0.7674, device='cuda:0') loss_val:  tensor(1.4904, device='cuda:0') validation accuracy : tensor(0.5422, device='cuda:0')\n",
            "86\n",
            "epoch: 86 \t loss_training:  1.283980671773877 train accuracy :  tensor(0.7696, device='cuda:0') loss_val:  tensor(1.4965, device='cuda:0') validation accuracy : tensor(0.5293, device='cuda:0')\n",
            "87\n",
            "epoch: 87 \t loss_training:  1.2802264110038155 train accuracy :  tensor(0.7752, device='cuda:0') loss_val:  tensor(1.4930, device='cuda:0') validation accuracy : tensor(0.5365, device='cuda:0')\n",
            "88\n",
            "epoch: 88 \t loss_training:  1.279237418321141 train accuracy :  tensor(0.7748, device='cuda:0') loss_val:  tensor(1.5131, device='cuda:0') validation accuracy : tensor(0.5107, device='cuda:0')\n",
            "89\n",
            "epoch: 89 \t loss_training:  1.2763339139913257 train accuracy :  tensor(0.7762, device='cuda:0') loss_val:  tensor(1.5047, device='cuda:0') validation accuracy : tensor(0.5293, device='cuda:0')\n",
            "90\n",
            "epoch: 90 \t loss_training:  1.268945430454455 train accuracy :  tensor(0.7834, device='cuda:0') loss_val:  tensor(1.4918, device='cuda:0') validation accuracy : tensor(0.5479, device='cuda:0')\n",
            "91\n",
            "epoch: 91 \t loss_training:  1.2689136941181987 train accuracy :  tensor(0.7844, device='cuda:0') loss_val:  tensor(1.4991, device='cuda:0') validation accuracy : tensor(0.5351, device='cuda:0')\n",
            "92\n",
            "epoch: 92 \t loss_training:  1.26713490956708 train accuracy :  tensor(0.7852, device='cuda:0') loss_val:  tensor(1.4955, device='cuda:0') validation accuracy : tensor(0.5336, device='cuda:0')\n",
            "93\n",
            "epoch: 93 \t loss_training:  1.2652205960792409 train accuracy :  tensor(0.7870, device='cuda:0') loss_val:  tensor(1.5000, device='cuda:0') validation accuracy : tensor(0.5308, device='cuda:0')\n",
            "94\n",
            "epoch: 94 \t loss_training:  1.2654688065512139 train accuracy :  tensor(0.7867, device='cuda:0') loss_val:  tensor(1.5048, device='cuda:0') validation accuracy : tensor(0.5250, device='cuda:0')\n",
            "95\n",
            "epoch: 95 \t loss_training:  1.2632822441427332 train accuracy :  tensor(0.7873, device='cuda:0') loss_val:  tensor(1.5064, device='cuda:0') validation accuracy : tensor(0.5250, device='cuda:0')\n",
            "96\n",
            "epoch: 96 \t loss_training:  1.264192810706925 train accuracy :  tensor(0.7877, device='cuda:0') loss_val:  tensor(1.4978, device='cuda:0') validation accuracy : tensor(0.5322, device='cuda:0')\n",
            "97\n",
            "epoch: 97 \t loss_training:  1.2567224774444312 train accuracy :  tensor(0.7978, device='cuda:0') loss_val:  tensor(1.5016, device='cuda:0') validation accuracy : tensor(0.5279, device='cuda:0')\n",
            "98\n",
            "epoch: 98 \t loss_training:  1.261632097394843 train accuracy :  tensor(0.7878, device='cuda:0') loss_val:  tensor(1.4959, device='cuda:0') validation accuracy : tensor(0.5379, device='cuda:0')\n",
            "99\n",
            "epoch: 99 \t loss_training:  1.257929519080279 train accuracy :  tensor(0.7919, device='cuda:0') loss_val:  tensor(1.4972, device='cuda:0') validation accuracy : tensor(0.5336, device='cuda:0')\n",
            "100\n",
            "epoch: 100 \t loss_training:  1.2568587953584236 train accuracy :  tensor(0.7945, device='cuda:0') loss_val:  tensor(1.4964, device='cuda:0') validation accuracy : tensor(0.5393, device='cuda:0')\n"
          ],
          "name": "stdout"
        }
      ]
    },
    {
      "cell_type": "code",
      "metadata": {
        "id": "yX__xYb2MuOF",
        "colab": {
          "base_uri": "https://localhost:8080/",
          "height": 700
        },
        "outputId": "18d98aec-9cbf-481b-f620-573becd54fd7"
      },
      "source": [
        "# Plot for training and validation loss comparison\n",
        "plt.figure(1,figsize = (10,5))\n",
        "plt.plot(range(1,101),np.array(train_losses)/batches,label='training loss')\n",
        "plt.plot(range(1,101),val_losses,label='validation loss')\n",
        "plt.xlabel('epochs')\n",
        "plt.ylabel('loss')\n",
        "plt.title('speech emotion recognition using CNN')\n",
        "plt.legend()\n",
        "\n",
        "# Plot for training and validation accuracy comparison\n",
        "plt.figure(2,figsize = (10,5))\n",
        "plt.plot(range(1,101),np.array(train_acc)/batches,label='training accuracy')\n",
        "plt.plot(range(1,101),val_acc,label='validation accuracy')\n",
        "plt.xlabel('epochs')\n",
        "plt.ylabel('accuracy')\n",
        "plt.title('speech emotion recognition using CNN')\n",
        "plt.legend()\n"
      ],
      "execution_count": null,
      "outputs": [
        {
          "output_type": "execute_result",
          "data": {
            "text/plain": [
              "<matplotlib.legend.Legend at 0x7f33e833d410>"
            ]
          },
          "metadata": {
            "tags": []
          },
          "execution_count": 16
        },
        {
          "output_type": "display_data",
          "data": {
            "image/png": "[encoded data removed]",
            "text/plain": [
              "<Figure size 720x360 with 1 Axes>"
            ]
          },
          "metadata": {
            "tags": [],
            "needs_background": "light"
          }
        },
        {
          "output_type": "display_data",
          "data": {
            "image/png": "[encoded data removed]",
            "text/plain": [
              "<Figure size 720x360 with 1 Axes>"
            ]
          },
          "metadata": {
            "tags": [],
            "needs_background": "light"
          }
        }
      ]
    },
    {
      "cell_type": "markdown",
      "metadata": {
        "id": "C9ZtH209Z4ny"
      },
      "source": [
        "##Observation \n",
        "above model seems to overfit the data . \\\n",
        "Furthur improvements can be seen in modified notebook [Here](https://colab.research.google.com/drive/1k67qX-I1eO8-OLJ9MDPNEnXrGlo9DjAV?usp=sharing)\n"
      ]
    },
    {
      "cell_type": "code",
      "metadata": {
        "id": "nEfFh8GfMu8T",
        "colab": {
          "base_uri": "https://localhost:8080/"
        },
        "outputId": "ad2a4ef2-f254-4a0a-aa10-3aa6b82bed4a"
      },
      "source": [
        "#Check accuracy on training and test to see how good our model\n",
        "\n",
        "def check_accuracy(features, targets, model):\n",
        "  num_correct = 0\n",
        "  num_samples = 0\n",
        "  model.eval()\n",
        "\n",
        "  with torch.no_grad():\n",
        "    \n",
        "    data = features.to(device=device)\n",
        "    targets = targets.to(device=device)\n",
        "    data = data.float()\n",
        "    scores = model(data)\n",
        "    _, predictions = scores.max(1)\n",
        "    #print(predictions)\n",
        "    num_correct += (predictions ==targets).sum()\n",
        "    num_samples += predictions.size(0)\n",
        "\n",
        "    #print(num_correct, num_samples)\n",
        "    print('accuracy is ',(float(num_correct)/float(num_samples))*100)\n",
        "  model.train()\n",
        "\n",
        "\n",
        "check_accuracy(test_x[:700], test_y[:700], model)\n"
      ],
      "execution_count": null,
      "outputs": [
        {
          "output_type": "stream",
          "text": [
            "accuracy is  50.0\n"
          ],
          "name": "stdout"
        }
      ]
    },
    {
      "cell_type": "markdown",
      "metadata": {
        "id": "4SDZvijCbS1a"
      },
      "source": [
        "**Obs:** \\\n",
        "Accuracy for the model is 50% over the test data \\\n",
        "for further improvements apart from the **MEL-Spectogram** other features like MFCC and chroma-stft can be used. \n"
      ]
    }
  ]
}